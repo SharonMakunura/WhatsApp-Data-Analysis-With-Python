{
 "cells": [
  {
   "cell_type": "markdown",
   "metadata": {},
   "source": [
    "# 2: Working with emojis"
   ]
  },
  {
   "cell_type": "markdown",
   "metadata": {},
   "source": [
    "By: Sharon Makunura"
   ]
  },
  {
   "cell_type": "code",
   "execution_count": 64,
   "metadata": {},
   "outputs": [],
   "source": [
    "import re\n",
    "import pandas as pd\n",
    "import numpy as np\n",
    "import matplotlib.pyplot as plt\n",
    "import seaborn as sns\n",
    "from datetime import *\n",
    "import datetime as dt\n",
    "from matplotlib.ticker import MaxNLocator\n",
    "import regex\n",
    "import emoji\n",
    "import demoji\n",
    "from wordcloud import WordCloud , STOPWORDS , ImageColorGenerator\n",
    "from nltk import *\n",
    "\n"
   ]
  },
  {
   "cell_type": "code",
   "execution_count": null,
   "metadata": {},
   "outputs": [],
   "source": [
    "whatsapp_df=pd.read_csv('whatsapp_dataset.csv')"
   ]
  },
  {
   "cell_type": "code",
   "execution_count": 137,
   "metadata": {},
   "outputs": [
    {
     "name": "stdout",
     "output_type": "stream",
     "text": [
      "<class 'pandas.core.frame.DataFrame'>\n",
      "RangeIndex: 3385 entries, 0 to 3384\n",
      "Data columns (total 6 columns):\n",
      " #   Column  Non-Null Count  Dtype         \n",
      "---  ------  --------------  -----         \n",
      " 0   Date    3385 non-null   datetime64[ns]\n",
      " 1   Time    3385 non-null   object        \n",
      " 2   Sender  3385 non-null   object        \n",
      " 3   Chat    3385 non-null   object        \n",
      " 4   Day     3385 non-null   object        \n",
      " 5   Month   3385 non-null   object        \n",
      "dtypes: datetime64[ns](1), object(5)\n",
      "memory usage: 158.8+ KB\n"
     ]
    }
   ],
   "source": [
    "whatsapp_df.info()"
   ]
  },
  {
   "cell_type": "code",
   "execution_count": 117,
   "metadata": {},
   "outputs": [],
   "source": [
    "#function to convert string series into list, takes series, returns list \n",
    "#null values should equal 'Empty\n",
    "\n",
    "def stringSeries(a_series):\n",
    "    stringed_s=[s for s in a_series if s!='Empty'] \n",
    "    return stringed_s\n",
    "\n",
    "\n",
    "#redo above function but taking in multiple columns\n",
    "#cannot work with emoji text as it reads multiple emojis as a different string\n",
    "#will also return empty as a unique value\n",
    "\n",
    "def stringCols(a_df):\n",
    "    stringed_c=np.unique(a_df.values).tolist()\n",
    "    return stringed_c"
   ]
  },
  {
   "cell_type": "code",
   "execution_count": 118,
   "metadata": {},
   "outputs": [],
   "source": [
    "def findAllEmoji(full_emoji_df):\n",
    "    emot_list=full_emoji_df.values.tolist()\n",
    "    all_emot=[emoji for z in emot_list for emoji in z  if emoji!='Empty']\n",
    "    return all_emot"
   ]
  },
  {
   "cell_type": "code",
   "execution_count": 120,
   "metadata": {},
   "outputs": [],
   "source": [
    "#certain emojis differ by skin tone\n",
    "\n",
    "#function seperates skin tone emojis into separate list\n",
    "\n",
    "def st_Emojis(emoji_list):\n",
    "    st='skin tone'\n",
    "    st_emojis =[emot for emot in emoji_list if st in emot]\n",
    "    return st_emojis"
   ]
  },
  {
   "cell_type": "code",
   "execution_count": 121,
   "metadata": {},
   "outputs": [],
   "source": [
    "#write function to split by skin tone and return two lists, one with values - skin tone and other with actual skin tones\n",
    "\n",
    "def stCheck(st_list, delimiter):\n",
    "    tone='skin tone'\n",
    "    nonst_list=[]\n",
    "    actual_st=[]\n",
    "    for each in st_list:\n",
    "        split_list=each.split(delimiter)\n",
    "        if split_list[0] ==each:                  #checks that there is somethin after : else will produce error\n",
    "            nonst=each\n",
    "        else:\n",
    "            nonst = split_list[0]\n",
    "            a_st=split_list[1]\n",
    "            if tone in a_st:                        #caters for other emojis like flag which have non st value after :\n",
    "                actual_st.append(a_st)\n",
    "            else:\n",
    "                nonst=nonst+':'+a_st\n",
    "            \n",
    "        nonst_list.append(nonst)\n",
    "        \n",
    "    return nonst_list, actual_st\n",
    "        "
   ]
  },
  {
   "cell_type": "code",
   "execution_count": null,
   "metadata": {},
   "outputs": [],
   "source": [
    "    #convert list into dataframe then count frequency\n",
    "def list_to_df(a_list):\n",
    "    \n",
    "    if len(a_list)>0:\n",
    "        \n",
    "        words_df=pd.DataFrame(a_list)\n",
    "        value_counts = words_df[0].value_counts()\n",
    "        words_df=words_df.value_counts().rename_axis('unique_words').reset_index(name='counts')\n",
    "    #save result of max as df;   \n",
    "        max_df=words_df[words_df.counts==words_df.counts.max()]\n",
    "    #some words may have same max count; combine them into one string\n",
    "        if len(max_df)>1:\n",
    "            words = ','.join(stringSeries(max_df.unique_words))\n",
    "        else:\n",
    "            words = max_df.unique_words[0]\n",
    "\n",
    "        tot_freq = max_df.counts[0]\n",
    "\n",
    "    else:\n",
    "        words=''\n",
    "        tot_freq=0\n",
    "    return words, tot_freq\n",
    "    \n"
   ]
  },
  {
   "cell_type": "code",
   "execution_count": 115,
   "metadata": {},
   "outputs": [],
   "source": [
    "#create functions\n",
    "\n",
    "#this function takes a df with message column tagged as 'Chat', and returns a df with additional columns Emoji count[number of emojis in message], Emoji text\n",
    "#this function uses demoji module\n",
    "\n",
    "def emojiCounter(a_df):\n",
    "    all_eitems=0\n",
    "    efinds=[]\n",
    "    for row in a_df.index:\n",
    "        message=a_df['Chat'][row]\n",
    "        all_emojis=demoji.findall(message)\n",
    "        elength=len(all_emojis)\n",
    "        if elength>0:\n",
    "            emoji_list=list(all_emojis.values())\n",
    "            efinds.append(emoji_list)\n",
    "            nfinds=len(emoji_list)\n",
    "        else:\n",
    "            nfinds = elength\n",
    "            emoji_list=['Empty']\n",
    "            \n",
    "        str_emoji=', '.join(map(str,emoji_list))\n",
    "        #a_df.at[row, 'Emoji count']=nfinds\n",
    "        a_df.at[row, 'Emoji text']=str_emoji\n",
    "        \n",
    "    return a_df\n",
    "            \n",
    "    "
   ]
  },
  {
   "cell_type": "code",
   "execution_count": 138,
   "metadata": {},
   "outputs": [],
   "source": [
    "#combine all emoji functions into one\n",
    "\n",
    "def emojiSummary(the_df):\n",
    "    the_df=the_df.iloc[:, 3:5]\n",
    "    emoji_df=emojiCounter(the_df)\n",
    "#splits text column so each reference to emoji is stand alone\n",
    "    expanded_df=pd.concat([emoji_df, emoji_df['Emoji text'].str.split(', ', expand=True)], axis=1)\n",
    "    #replace null with empty space\n",
    "    expanded_df.fillna('Empty',inplace=True)\n",
    "#determine unique emojis in df\n",
    "#Works with the expanded columns so takes all last columns after emoji text\n",
    "    x_df=expanded_df.iloc[:, 2:]\n",
    "    combo_emojis=stringCols(x_df)\n",
    "    listed_emojis=findAllEmoji(x_df)    #total emojis including repetitions \n",
    "    total_emojis_used=len(listed_emojis)\n",
    "    \n",
    " #adjust for no emojis used\n",
    "\n",
    "    if total_emojis_used==0:\n",
    "        most_common=''\n",
    "        num_used=0\n",
    "        tot_unique_emojis=0\n",
    "        len_st_emojis=0\n",
    "        most_stemoji=''\n",
    "        st_num_used=0\n",
    "        most_st=''\n",
    "        num_stused=0\n",
    "   \n",
    "        \n",
    "\n",
    "    else:                              #emojis have been used\n",
    "        \n",
    "        most_common, num_used=list_to_df(listed_emojis)   #counts most common emojis(string) and how many times used\n",
    "\n",
    "    #number of unique emojis used - 1 to account for empty \n",
    "        tot_unique_emojis=len(combo_emojis)-1   \n",
    "\n",
    "\n",
    "    #determine all skin toned emojis used\n",
    "        stemojis=st_Emojis(listed_emojis)\n",
    "        len_st_emojis=len(stemojis)\n",
    "  #adjust for no skin tone used      \n",
    "\n",
    "        if len_st_emojis ==0:\n",
    "            most_stemoji=''\n",
    "            st_num_used=0\n",
    "            most_st=''\n",
    "            num_stused=0\n",
    "        \n",
    "        else:                 #skin tone used\n",
    "            \n",
    "            most_stemoji, st_num_used=list_to_df(stemojis)   #counts most common skin toned emojis(string) and how many times used\n",
    "        #determine most popular skin tone:\n",
    "            non_st,get_st=stCheck(stemojis, ':')\n",
    "            most_st, num_stused=list_to_df(get_st)   #counts most common skin toned emojis(string) and how many times used\n",
    "\n",
    "  \n",
    "\n",
    "    \n",
    "    print('Total emojis sent             :   {}'.format(total_emojis_used))\n",
    "    print('Most popular emoji            :   {}'.format(most_common))\n",
    "    print('Number of times used          :   {}'.format(num_used))\n",
    "    print('Total unique emojis used      :   {}'.format(tot_unique_emojis))\n",
    "    print('Total skin-toned emojis used  :   {}'.format(len_st_emojis))\n",
    "    print('Most popular skin-toned emojis:   {}'.format(most_stemoji))\n",
    "    print('Number of times used          :   {}'.format(st_num_used))\n",
    "    print('Most popular skin tone        :   {}'.format(most_st))\n",
    "    print('Number of times used          :   {}'.format(num_stused))\n"
   ]
  },
  {
   "cell_type": "code",
   "execution_count": 139,
   "metadata": {},
   "outputs": [
    {
     "name": "stdout",
     "output_type": "stream",
     "text": [
      "Total emojis sent             :   2023\n",
      "Most popular emoji            :   partying face\n",
      "Number of times used          :   186\n",
      "Total unique emojis used      :   336\n",
      "Total skin-toned emojis used  :   318\n",
      "Most popular skin-toned emojis:   clapping hands: medium-dark skin tone\n",
      "Number of times used          :   25\n",
      "Most popular skin tone        :    medium-dark skin tone\n",
      "Number of times used          :   131\n"
     ]
    }
   ],
   "source": [
    "emojiSummary(whatsapp_df)"
   ]
  },
  {
   "cell_type": "code",
   "execution_count": null,
   "metadata": {},
   "outputs": [],
   "source": []
  },
  {
   "cell_type": "code",
   "execution_count": null,
   "metadata": {},
   "outputs": [],
   "source": []
  }
 ],
 "metadata": {
  "kernelspec": {
   "display_name": "Python 3",
   "language": "python",
   "name": "python3"
  },
  "language_info": {
   "codemirror_mode": {
    "name": "ipython",
    "version": 3
   },
   "file_extension": ".py",
   "mimetype": "text/x-python",
   "name": "python",
   "nbconvert_exporter": "python",
   "pygments_lexer": "ipython3",
   "version": "3.6.10"
  }
 },
 "nbformat": 4,
 "nbformat_minor": 4
}
